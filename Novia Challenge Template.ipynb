{
 "cells": [
  {
   "cell_type": "code",
   "execution_count": 76,
   "metadata": {},
   "outputs": [],
   "source": [
    "import pandas as pd\n",
    "import numpy as np\n",
    "import matplotlib.pyplot as plt\n",
    "import seaborn as sns\n",
    "from sklearn.metrics import confusion_matrix"
   ]
  },
  {
   "cell_type": "code",
   "execution_count": 4,
   "metadata": {},
   "outputs": [],
   "source": [
    "# i needed to add the path\n",
    "candidate_scores = pd.read_csv('data\\candidate_scores.csv')\n",
    "hr_scores = pd.read_csv('data\\hr_scores.csv')"
   ]
  },
  {
   "cell_type": "markdown",
   "metadata": {},
   "source": [
    "# Section 1"
   ]
  },
  {
   "cell_type": "markdown",
   "metadata": {},
   "source": [
    "First, I wanted to take a look at the data before merging them."
   ]
  },
  {
   "cell_type": "code",
   "execution_count": 5,
   "metadata": {},
   "outputs": [
    {
     "data": {
      "text/html": [
       "<div>\n",
       "<style scoped>\n",
       "    .dataframe tbody tr th:only-of-type {\n",
       "        vertical-align: middle;\n",
       "    }\n",
       "\n",
       "    .dataframe tbody tr th {\n",
       "        vertical-align: top;\n",
       "    }\n",
       "\n",
       "    .dataframe thead th {\n",
       "        text-align: right;\n",
       "    }\n",
       "</style>\n",
       "<table border=\"1\" class=\"dataframe\">\n",
       "  <thead>\n",
       "    <tr style=\"text-align: right;\">\n",
       "      <th></th>\n",
       "      <th>id</th>\n",
       "      <th>createdAt</th>\n",
       "      <th>updatedAt</th>\n",
       "      <th>candidateName</th>\n",
       "      <th>overallScore</th>\n",
       "      <th>dataSources</th>\n",
       "      <th>status</th>\n",
       "      <th>professionalScore</th>\n",
       "      <th>culturalScore</th>\n",
       "      <th>teamScore</th>\n",
       "      <th>punchline</th>\n",
       "      <th>contextID</th>\n",
       "    </tr>\n",
       "  </thead>\n",
       "  <tbody>\n",
       "    <tr>\n",
       "      <th>0</th>\n",
       "      <td>38</td>\n",
       "      <td>27:17.2</td>\n",
       "      <td>27:52.4</td>\n",
       "      <td>Zephyr Rift Stormwind</td>\n",
       "      <td>80.0</td>\n",
       "      <td>{Linkedin,CV}</td>\n",
       "      <td>Completed</td>\n",
       "      <td>79</td>\n",
       "      <td>74.0</td>\n",
       "      <td>75.0</td>\n",
       "      <td>Strong fit with minor industry-specific gap, v...</td>\n",
       "      <td>10</td>\n",
       "    </tr>\n",
       "    <tr>\n",
       "      <th>1</th>\n",
       "      <td>39</td>\n",
       "      <td>27:48.9</td>\n",
       "      <td>28:30.1</td>\n",
       "      <td>Luna Moonbeam</td>\n",
       "      <td>75.0</td>\n",
       "      <td>{Linkedin,CV}</td>\n",
       "      <td>Completed</td>\n",
       "      <td>82</td>\n",
       "      <td>62.0</td>\n",
       "      <td>60.0</td>\n",
       "      <td>Strong foundation, potential for growth in new...</td>\n",
       "      <td>10</td>\n",
       "    </tr>\n",
       "    <tr>\n",
       "      <th>2</th>\n",
       "      <td>35</td>\n",
       "      <td>25:30.7</td>\n",
       "      <td>26:11.9</td>\n",
       "      <td>Raven Nightshade ©±ð�©¨ð�©¥ð�©§ð�©¥ð�©¯ ð�©²ð�...</td>\n",
       "      <td>50.0</td>\n",
       "      <td>{Linkedin,CV}</td>\n",
       "      <td>Completed</td>\n",
       "      <td>45</td>\n",
       "      <td>38.0</td>\n",
       "      <td>37.5</td>\n",
       "      <td>Promising candidate with potential, needs indu...</td>\n",
       "      <td>10</td>\n",
       "    </tr>\n",
       "    <tr>\n",
       "      <th>3</th>\n",
       "      <td>36</td>\n",
       "      <td>26:17.4</td>\n",
       "      <td>27:00.1</td>\n",
       "      <td>Phoenix Ashfire</td>\n",
       "      <td>70.0</td>\n",
       "      <td>{Linkedin,CV}</td>\n",
       "      <td>Completed</td>\n",
       "      <td>84</td>\n",
       "      <td>74.0</td>\n",
       "      <td>75.0</td>\n",
       "      <td>Potential fit with room for growth in industry...</td>\n",
       "      <td>10</td>\n",
       "    </tr>\n",
       "    <tr>\n",
       "      <th>4</th>\n",
       "      <td>37</td>\n",
       "      <td>26:51.1</td>\n",
       "      <td>27:28.1</td>\n",
       "      <td>Echo Whisperwind  ðŸ‡®ðŸ‡±</td>\n",
       "      <td>70.0</td>\n",
       "      <td>{Linkedin,CV}</td>\n",
       "      <td>Completed</td>\n",
       "      <td>81</td>\n",
       "      <td>64.0</td>\n",
       "      <td>65.0</td>\n",
       "      <td>Skilled product manager with potential to adap...</td>\n",
       "      <td>10</td>\n",
       "    </tr>\n",
       "  </tbody>\n",
       "</table>\n",
       "</div>"
      ],
      "text/plain": [
       "   id createdAt updatedAt                                      candidateName  \\\n",
       "0  38   27:17.2   27:52.4                              Zephyr Rift Stormwind   \n",
       "1  39   27:48.9   28:30.1                                      Luna Moonbeam   \n",
       "2  35   25:30.7   26:11.9  Raven Nightshade ©±ð�©¨ð�©¥ð�©§ð�©¥ð�©¯ ð�©²ð�...   \n",
       "3  36   26:17.4   27:00.1                                    Phoenix Ashfire   \n",
       "4  37   26:51.1   27:28.1                         Echo Whisperwind  ðŸ‡®ðŸ‡±   \n",
       "\n",
       "   overallScore    dataSources     status  professionalScore  culturalScore  \\\n",
       "0          80.0  {Linkedin,CV}  Completed                 79           74.0   \n",
       "1          75.0  {Linkedin,CV}  Completed                 82           62.0   \n",
       "2          50.0  {Linkedin,CV}  Completed                 45           38.0   \n",
       "3          70.0  {Linkedin,CV}  Completed                 84           74.0   \n",
       "4          70.0  {Linkedin,CV}  Completed                 81           64.0   \n",
       "\n",
       "   teamScore                                          punchline  contextID  \n",
       "0       75.0  Strong fit with minor industry-specific gap, v...         10  \n",
       "1       60.0  Strong foundation, potential for growth in new...         10  \n",
       "2       37.5  Promising candidate with potential, needs indu...         10  \n",
       "3       75.0  Potential fit with room for growth in industry...         10  \n",
       "4       65.0  Skilled product manager with potential to adap...         10  "
      ]
     },
     "execution_count": 5,
     "metadata": {},
     "output_type": "execute_result"
    }
   ],
   "source": [
    "candidate_scores.head()"
   ]
  },
  {
   "cell_type": "code",
   "execution_count": 6,
   "metadata": {},
   "outputs": [
    {
     "data": {
      "text/html": [
       "<div>\n",
       "<style scoped>\n",
       "    .dataframe tbody tr th:only-of-type {\n",
       "        vertical-align: middle;\n",
       "    }\n",
       "\n",
       "    .dataframe tbody tr th {\n",
       "        vertical-align: top;\n",
       "    }\n",
       "\n",
       "    .dataframe thead th {\n",
       "        text-align: right;\n",
       "    }\n",
       "</style>\n",
       "<table border=\"1\" class=\"dataframe\">\n",
       "  <thead>\n",
       "    <tr style=\"text-align: right;\">\n",
       "      <th></th>\n",
       "      <th>candidateName</th>\n",
       "      <th>hrScore</th>\n",
       "    </tr>\n",
       "  </thead>\n",
       "  <tbody>\n",
       "    <tr>\n",
       "      <th>0</th>\n",
       "      <td>Zephyr Rift Stormwind</td>\n",
       "      <td>2</td>\n",
       "    </tr>\n",
       "    <tr>\n",
       "      <th>1</th>\n",
       "      <td>Luna Moonbeam</td>\n",
       "      <td>2</td>\n",
       "    </tr>\n",
       "    <tr>\n",
       "      <th>2</th>\n",
       "      <td>Raven Nightshade'</td>\n",
       "      <td>4</td>\n",
       "    </tr>\n",
       "    <tr>\n",
       "      <th>3</th>\n",
       "      <td>Phoenix Ashfire</td>\n",
       "      <td>2</td>\n",
       "    </tr>\n",
       "    <tr>\n",
       "      <th>4</th>\n",
       "      <td>Echo Whisperwind</td>\n",
       "      <td>3</td>\n",
       "    </tr>\n",
       "  </tbody>\n",
       "</table>\n",
       "</div>"
      ],
      "text/plain": [
       "           candidateName  hrScore\n",
       "0  Zephyr Rift Stormwind        2\n",
       "1          Luna Moonbeam        2\n",
       "2      Raven Nightshade'        4\n",
       "3        Phoenix Ashfire        2\n",
       "4       Echo Whisperwind        3"
      ]
     },
     "execution_count": 6,
     "metadata": {},
     "output_type": "execute_result"
    }
   ],
   "source": [
    "hr_scores.head()"
   ]
  },
  {
   "cell_type": "code",
   "execution_count": 24,
   "metadata": {},
   "outputs": [
    {
     "name": "stdout",
     "output_type": "stream",
     "text": [
      "Shape of the candidate scores dataset:(79, 12)\n",
      "Shape of the hr scores dataset:(52, 2)\n"
     ]
    }
   ],
   "source": [
    "print(f\"Shape of the candidate scores dataset:{candidate_scores.shape}\")\n",
    "print(f\"Shape of the hr scores dataset:{hr_scores.shape}\")"
   ]
  },
  {
   "cell_type": "markdown",
   "metadata": {},
   "source": [
    "I believe we want to compare the HR scores to the overall score, so I decided to use an inner join and ignore candidates without HR scores (NaN values). If we needed to consider candidates without HR scores, I would use a left join to ensure they are not removed from the table."
   ]
  },
  {
   "cell_type": "code",
   "execution_count": 57,
   "metadata": {},
   "outputs": [],
   "source": [
    "combined_candidates = pd.merge(candidate_scores, hr_scores, on='candidateName', how='inner')\n",
    "combined_candidates.to_csv('data/combined_candidates.csv', index=False)"
   ]
  },
  {
   "cell_type": "code",
   "execution_count": 58,
   "metadata": {},
   "outputs": [
    {
     "data": {
      "text/html": [
       "<div>\n",
       "<style scoped>\n",
       "    .dataframe tbody tr th:only-of-type {\n",
       "        vertical-align: middle;\n",
       "    }\n",
       "\n",
       "    .dataframe tbody tr th {\n",
       "        vertical-align: top;\n",
       "    }\n",
       "\n",
       "    .dataframe thead th {\n",
       "        text-align: right;\n",
       "    }\n",
       "</style>\n",
       "<table border=\"1\" class=\"dataframe\">\n",
       "  <thead>\n",
       "    <tr style=\"text-align: right;\">\n",
       "      <th></th>\n",
       "      <th>id</th>\n",
       "      <th>createdAt</th>\n",
       "      <th>updatedAt</th>\n",
       "      <th>candidateName</th>\n",
       "      <th>overallScore</th>\n",
       "      <th>dataSources</th>\n",
       "      <th>status</th>\n",
       "      <th>professionalScore</th>\n",
       "      <th>culturalScore</th>\n",
       "      <th>teamScore</th>\n",
       "      <th>punchline</th>\n",
       "      <th>contextID</th>\n",
       "      <th>hrScore</th>\n",
       "    </tr>\n",
       "  </thead>\n",
       "  <tbody>\n",
       "    <tr>\n",
       "      <th>0</th>\n",
       "      <td>38</td>\n",
       "      <td>27:17.2</td>\n",
       "      <td>27:52.4</td>\n",
       "      <td>Zephyr Rift Stormwind</td>\n",
       "      <td>80.0</td>\n",
       "      <td>{Linkedin,CV}</td>\n",
       "      <td>Completed</td>\n",
       "      <td>79</td>\n",
       "      <td>74.0</td>\n",
       "      <td>75.0</td>\n",
       "      <td>Strong fit with minor industry-specific gap, v...</td>\n",
       "      <td>10</td>\n",
       "      <td>2</td>\n",
       "    </tr>\n",
       "    <tr>\n",
       "      <th>1</th>\n",
       "      <td>39</td>\n",
       "      <td>27:48.9</td>\n",
       "      <td>28:30.1</td>\n",
       "      <td>Luna Moonbeam</td>\n",
       "      <td>75.0</td>\n",
       "      <td>{Linkedin,CV}</td>\n",
       "      <td>Completed</td>\n",
       "      <td>82</td>\n",
       "      <td>62.0</td>\n",
       "      <td>60.0</td>\n",
       "      <td>Strong foundation, potential for growth in new...</td>\n",
       "      <td>10</td>\n",
       "      <td>2</td>\n",
       "    </tr>\n",
       "    <tr>\n",
       "      <th>2</th>\n",
       "      <td>36</td>\n",
       "      <td>26:17.4</td>\n",
       "      <td>27:00.1</td>\n",
       "      <td>Phoenix Ashfire</td>\n",
       "      <td>70.0</td>\n",
       "      <td>{Linkedin,CV}</td>\n",
       "      <td>Completed</td>\n",
       "      <td>84</td>\n",
       "      <td>74.0</td>\n",
       "      <td>75.0</td>\n",
       "      <td>Potential fit with room for growth in industry...</td>\n",
       "      <td>10</td>\n",
       "      <td>2</td>\n",
       "    </tr>\n",
       "    <tr>\n",
       "      <th>3</th>\n",
       "      <td>40</td>\n",
       "      <td>28:14.1</td>\n",
       "      <td>28:44.1</td>\n",
       "      <td>Orion Stargazer</td>\n",
       "      <td>70.0</td>\n",
       "      <td>{Linkedin,CV}</td>\n",
       "      <td>Completed</td>\n",
       "      <td>77</td>\n",
       "      <td>65.0</td>\n",
       "      <td>70.0</td>\n",
       "      <td>Promising fit with room for industry-specific ...</td>\n",
       "      <td>10</td>\n",
       "      <td>4</td>\n",
       "    </tr>\n",
       "    <tr>\n",
       "      <th>4</th>\n",
       "      <td>41</td>\n",
       "      <td>28:49.3</td>\n",
       "      <td>29:26.9</td>\n",
       "      <td>Sage Evergreen</td>\n",
       "      <td>75.0</td>\n",
       "      <td>{Linkedin,CV}</td>\n",
       "      <td>Completed</td>\n",
       "      <td>79</td>\n",
       "      <td>69.0</td>\n",
       "      <td>69.0</td>\n",
       "      <td>Solid foundation with potential for growth in ...</td>\n",
       "      <td>10</td>\n",
       "      <td>3</td>\n",
       "    </tr>\n",
       "  </tbody>\n",
       "</table>\n",
       "</div>"
      ],
      "text/plain": [
       "   id createdAt updatedAt          candidateName  overallScore    dataSources  \\\n",
       "0  38   27:17.2   27:52.4  Zephyr Rift Stormwind          80.0  {Linkedin,CV}   \n",
       "1  39   27:48.9   28:30.1          Luna Moonbeam          75.0  {Linkedin,CV}   \n",
       "2  36   26:17.4   27:00.1        Phoenix Ashfire          70.0  {Linkedin,CV}   \n",
       "3  40   28:14.1   28:44.1        Orion Stargazer          70.0  {Linkedin,CV}   \n",
       "4  41   28:49.3   29:26.9         Sage Evergreen          75.0  {Linkedin,CV}   \n",
       "\n",
       "      status  professionalScore  culturalScore  teamScore  \\\n",
       "0  Completed                 79           74.0       75.0   \n",
       "1  Completed                 82           62.0       60.0   \n",
       "2  Completed                 84           74.0       75.0   \n",
       "3  Completed                 77           65.0       70.0   \n",
       "4  Completed                 79           69.0       69.0   \n",
       "\n",
       "                                           punchline  contextID  hrScore  \n",
       "0  Strong fit with minor industry-specific gap, v...         10        2  \n",
       "1  Strong foundation, potential for growth in new...         10        2  \n",
       "2  Potential fit with room for growth in industry...         10        2  \n",
       "3  Promising fit with room for industry-specific ...         10        4  \n",
       "4  Solid foundation with potential for growth in ...         10        3  "
      ]
     },
     "execution_count": 58,
     "metadata": {},
     "output_type": "execute_result"
    }
   ],
   "source": [
    "combined_candidates.head()"
   ]
  },
  {
   "cell_type": "code",
   "execution_count": 59,
   "metadata": {},
   "outputs": [
    {
     "name": "stdout",
     "output_type": "stream",
     "text": [
      "Shape of the whole dataset:(46, 13)\n"
     ]
    }
   ],
   "source": [
    "print(f\"Shape of the whole dataset:{combined_candidates.shape}\")"
   ]
  },
  {
   "cell_type": "code",
   "execution_count": 60,
   "metadata": {},
   "outputs": [
    {
     "name": "stdout",
     "output_type": "stream",
     "text": [
      "<class 'pandas.core.frame.DataFrame'>\n",
      "Int64Index: 46 entries, 0 to 45\n",
      "Data columns (total 13 columns):\n",
      " #   Column             Non-Null Count  Dtype  \n",
      "---  ------             --------------  -----  \n",
      " 0   id                 46 non-null     int64  \n",
      " 1   createdAt          46 non-null     object \n",
      " 2   updatedAt          46 non-null     object \n",
      " 3   candidateName      46 non-null     object \n",
      " 4   overallScore       46 non-null     float64\n",
      " 5   dataSources        46 non-null     object \n",
      " 6   status             46 non-null     object \n",
      " 7   professionalScore  46 non-null     int64  \n",
      " 8   culturalScore      46 non-null     float64\n",
      " 9   teamScore          46 non-null     float64\n",
      " 10  punchline          46 non-null     object \n",
      " 11  contextID          46 non-null     int64  \n",
      " 12  hrScore            46 non-null     int64  \n",
      "dtypes: float64(3), int64(4), object(6)\n",
      "memory usage: 5.0+ KB\n"
     ]
    }
   ],
   "source": [
    "combined_candidates.info()"
   ]
  },
  {
   "cell_type": "markdown",
   "metadata": {},
   "source": [
    "After the inner join we won't have missing values."
   ]
  },
  {
   "cell_type": "code",
   "execution_count": 61,
   "metadata": {},
   "outputs": [
    {
     "data": {
      "text/html": [
       "<div>\n",
       "<style scoped>\n",
       "    .dataframe tbody tr th:only-of-type {\n",
       "        vertical-align: middle;\n",
       "    }\n",
       "\n",
       "    .dataframe tbody tr th {\n",
       "        vertical-align: top;\n",
       "    }\n",
       "\n",
       "    .dataframe thead th {\n",
       "        text-align: right;\n",
       "    }\n",
       "</style>\n",
       "<table border=\"1\" class=\"dataframe\">\n",
       "  <thead>\n",
       "    <tr style=\"text-align: right;\">\n",
       "      <th></th>\n",
       "      <th>id</th>\n",
       "      <th>overallScore</th>\n",
       "      <th>professionalScore</th>\n",
       "      <th>culturalScore</th>\n",
       "      <th>teamScore</th>\n",
       "      <th>contextID</th>\n",
       "      <th>hrScore</th>\n",
       "    </tr>\n",
       "  </thead>\n",
       "  <tbody>\n",
       "    <tr>\n",
       "      <th>count</th>\n",
       "      <td>46.000</td>\n",
       "      <td>46.000</td>\n",
       "      <td>46.000</td>\n",
       "      <td>46.000</td>\n",
       "      <td>46.000</td>\n",
       "      <td>46.0</td>\n",
       "      <td>46.000</td>\n",
       "    </tr>\n",
       "    <tr>\n",
       "      <th>mean</th>\n",
       "      <td>76.283</td>\n",
       "      <td>68.609</td>\n",
       "      <td>74.696</td>\n",
       "      <td>62.409</td>\n",
       "      <td>62.228</td>\n",
       "      <td>10.0</td>\n",
       "      <td>3.130</td>\n",
       "    </tr>\n",
       "    <tr>\n",
       "      <th>std</th>\n",
       "      <td>23.923</td>\n",
       "      <td>9.125</td>\n",
       "      <td>10.112</td>\n",
       "      <td>10.296</td>\n",
       "      <td>10.348</td>\n",
       "      <td>0.0</td>\n",
       "      <td>1.185</td>\n",
       "    </tr>\n",
       "    <tr>\n",
       "      <th>min</th>\n",
       "      <td>36.000</td>\n",
       "      <td>45.000</td>\n",
       "      <td>46.000</td>\n",
       "      <td>35.600</td>\n",
       "      <td>37.500</td>\n",
       "      <td>10.0</td>\n",
       "      <td>1.000</td>\n",
       "    </tr>\n",
       "    <tr>\n",
       "      <th>25%</th>\n",
       "      <td>54.250</td>\n",
       "      <td>65.000</td>\n",
       "      <td>72.250</td>\n",
       "      <td>58.050</td>\n",
       "      <td>57.500</td>\n",
       "      <td>10.0</td>\n",
       "      <td>2.000</td>\n",
       "    </tr>\n",
       "    <tr>\n",
       "      <th>50%</th>\n",
       "      <td>81.500</td>\n",
       "      <td>70.000</td>\n",
       "      <td>78.000</td>\n",
       "      <td>65.000</td>\n",
       "      <td>62.500</td>\n",
       "      <td>10.0</td>\n",
       "      <td>4.000</td>\n",
       "    </tr>\n",
       "    <tr>\n",
       "      <th>75%</th>\n",
       "      <td>94.750</td>\n",
       "      <td>75.000</td>\n",
       "      <td>80.750</td>\n",
       "      <td>69.000</td>\n",
       "      <td>70.000</td>\n",
       "      <td>10.0</td>\n",
       "      <td>4.000</td>\n",
       "    </tr>\n",
       "    <tr>\n",
       "      <th>max</th>\n",
       "      <td>113.000</td>\n",
       "      <td>80.000</td>\n",
       "      <td>87.000</td>\n",
       "      <td>78.000</td>\n",
       "      <td>77.500</td>\n",
       "      <td>10.0</td>\n",
       "      <td>4.000</td>\n",
       "    </tr>\n",
       "  </tbody>\n",
       "</table>\n",
       "</div>"
      ],
      "text/plain": [
       "            id  overallScore  professionalScore  culturalScore  teamScore  \\\n",
       "count   46.000        46.000             46.000         46.000     46.000   \n",
       "mean    76.283        68.609             74.696         62.409     62.228   \n",
       "std     23.923         9.125             10.112         10.296     10.348   \n",
       "min     36.000        45.000             46.000         35.600     37.500   \n",
       "25%     54.250        65.000             72.250         58.050     57.500   \n",
       "50%     81.500        70.000             78.000         65.000     62.500   \n",
       "75%     94.750        75.000             80.750         69.000     70.000   \n",
       "max    113.000        80.000             87.000         78.000     77.500   \n",
       "\n",
       "       contextID  hrScore  \n",
       "count       46.0   46.000  \n",
       "mean        10.0    3.130  \n",
       "std          0.0    1.185  \n",
       "min         10.0    1.000  \n",
       "25%         10.0    2.000  \n",
       "50%         10.0    4.000  \n",
       "75%         10.0    4.000  \n",
       "max         10.0    4.000  "
      ]
     },
     "execution_count": 61,
     "metadata": {},
     "output_type": "execute_result"
    }
   ],
   "source": [
    "combined_candidates.describe().round(3)"
   ]
  },
  {
   "cell_type": "markdown",
   "metadata": {},
   "source": [
    "We can gain basic insights into various aspects, including average values, the minimum and maximum values that may indicate feature scaling, and the spread (std) of the features. ContextID has the same value for all rows. We don't have binary features."
   ]
  },
  {
   "cell_type": "code",
   "execution_count": 77,
   "metadata": {},
   "outputs": [
    {
     "name": "stdout",
     "output_type": "stream",
     "text": [
      "\n",
      "The continuous features are:\n",
      " ['id', 'overallScore', 'professionalScore', 'culturalScore', 'teamScore', 'hrScore']\n",
      "\n",
      "And the categorical features are:\n",
      " ['createdAt', 'updatedAt', 'candidateName', 'dataSources', 'status', 'punchline', 'binary_HR', 'predicted_category', 'final_prediction']\n"
     ]
    }
   ],
   "source": [
    "categorical_features = combined_candidates.select_dtypes(['object']).columns.to_list()\n",
    "continuous_features = combined_candidates.select_dtypes(['float64','int64']).columns[combined_candidates.select_dtypes(['float64','int64']).nunique() > 2].tolist()\n",
    "\n",
    "print(\"\\nThe continuous features are:\\n\",continuous_features) \n",
    "print(\"\\nAnd the categorical features are:\\n\",categorical_features)"
   ]
  },
  {
   "cell_type": "markdown",
   "metadata": {},
   "source": [
    "I believe that the column `contextID`, which has the same value for all rows (as observed in the descriptive statistics), and the `id`, `dataSources`, `status` column will not provide additional insights, so I want to remove them before ploting. "
   ]
  },
  {
   "cell_type": "markdown",
   "metadata": {},
   "source": [
    "Reminder - if time allows remove them and update the plots"
   ]
  },
  {
   "cell_type": "code",
   "execution_count": 78,
   "metadata": {},
   "outputs": [
    {
     "data": {
      "image/png": "[encoded data removed]",
      "text/plain": [
       "<Figure size 1080x1080 with 6 Axes>"
      ]
     },
     "metadata": {
      "needs_background": "light"
     },
     "output_type": "display_data"
    }
   ],
   "source": [
    "fig, axes = plt.subplots(3, 2, figsize=(15, 15))\n",
    "axes = axes.flatten()\n",
    "sns.set_palette('muted')\n",
    "\n",
    "# Loop through each continuous feature and create a histogram\n",
    "for i, feature in enumerate(continuous_features):\n",
    "    ax = axes[i]\n",
    "    sns.histplot(combined_candidates[feature], ax=ax, bins=20, edgecolor='none', kde=True, kde_kws={'bw_method': 0.15})\n",
    "    ax.set_xlabel(feature)\n",
    "    ax.set_ylabel('Frequency')\n",
    "    ax.set_title('Histogram of {}'.format(feature))\n",
    "\n",
    "# Adjust layout\n",
    "plt.tight_layout()\n",
    "plt.show()"
   ]
  },
  {
   "cell_type": "markdown",
   "metadata": {},
   "source": [
    "Reminder - If time allows, remove contextID and id columns."
   ]
  },
  {
   "cell_type": "code",
   "execution_count": 79,
   "metadata": {},
   "outputs": [
    {
     "data": {
      "text/plain": [
       "<AxesSubplot:>"
      ]
     },
     "execution_count": 79,
     "metadata": {},
     "output_type": "execute_result"
    },
    {
     "data": {
      "image/png": "[encoded data removed]",
      "text/plain": [
       "<Figure size 1080x1080 with 2 Axes>"
      ]
     },
     "metadata": {
      "needs_background": "light"
     },
     "output_type": "display_data"
    }
   ],
   "source": [
    "f,ax = plt.subplots(figsize=(15, 15))\n",
    "sns.heatmap(combined_candidates.corr(), annot=True, linewidths=.5, fmt= '.1f',ax=ax, cmap='gist_heat')"
   ]
  },
  {
   "cell_type": "code",
   "execution_count": 86,
   "metadata": {},
   "outputs": [
    {
     "name": "stdout",
     "output_type": "stream",
     "text": [
      "Number of unique categories in 'punchline': 46\n",
      "Number of unique categories in 'candidateName': 44\n"
     ]
    }
   ],
   "source": [
    "# Count the number of unique categories in the 'punchline' column\n",
    "unique_categories_count = combined_candidates['punchline'].nunique()\n",
    "unique_names_count = combined_candidates['candidateName'].nunique()\n",
    "\n",
    "\n",
    "# Output the result\n",
    "print(\"Number of unique categories in 'punchline':\", unique_categories_count)\n",
    "print(\"Number of unique categories in 'candidateName':\", unique_names_count)\n",
    "\n"
   ]
  },
  {
   "cell_type": "markdown",
   "metadata": {},
   "source": [
    "We have 46 candidates, each with a unique punchline. However, there are duplicates in the names that we need to address."
   ]
  },
  {
   "cell_type": "markdown",
   "metadata": {},
   "source": [
    "# Section 2"
   ]
  },
  {
   "cell_type": "code",
   "execution_count": 81,
   "metadata": {},
   "outputs": [
    {
     "name": "stdout",
     "output_type": "stream",
     "text": [
      "   overallScore  hrScore binary_HR\n",
      "0          80.0        2        GO\n",
      "1          75.0        2        GO\n",
      "2          70.0        2        GO\n",
      "3          70.0        4     NO-GO\n",
      "4          75.0        3     NO-GO\n"
     ]
    }
   ],
   "source": [
    "# Create binary categories\n",
    "combined_candidates['binary_HR'] = combined_candidates['hrScore'].apply(lambda x: 'GO' if x in [1, 2] else 'NO-GO')\n",
    "\n",
    "# Preview the data\n",
    "print(combined_candidates[['overallScore', 'hrScore', 'binary_HR']].head())\n"
   ]
  },
  {
   "cell_type": "code",
   "execution_count": 82,
   "metadata": {},
   "outputs": [
    {
     "name": "stderr",
     "output_type": "stream",
     "text": [
      "c:\\Users\\Sophie\\anaconda3\\lib\\site-packages\\sklearn\\metrics\\_classification.py:1344: UndefinedMetricWarning: Precision is ill-defined and being set to 0.0 due to no predicted samples. Use `zero_division` parameter to control this behavior.\n",
      "  _warn_prf(average, modifier, msg_start, len(result))\n",
      "c:\\Users\\Sophie\\anaconda3\\lib\\site-packages\\sklearn\\metrics\\_classification.py:1344: UndefinedMetricWarning: Precision is ill-defined and being set to 0.0 due to no predicted samples. Use `zero_division` parameter to control this behavior.\n",
      "  _warn_prf(average, modifier, msg_start, len(result))\n",
      "c:\\Users\\Sophie\\anaconda3\\lib\\site-packages\\sklearn\\metrics\\_classification.py:1344: UndefinedMetricWarning: Precision is ill-defined and being set to 0.0 due to no predicted samples. Use `zero_division` parameter to control this behavior.\n",
      "  _warn_prf(average, modifier, msg_start, len(result))\n",
      "c:\\Users\\Sophie\\anaconda3\\lib\\site-packages\\sklearn\\metrics\\_classification.py:1344: UndefinedMetricWarning: Precision is ill-defined and being set to 0.0 due to no predicted samples. Use `zero_division` parameter to control this behavior.\n",
      "  _warn_prf(average, modifier, msg_start, len(result))\n",
      "c:\\Users\\Sophie\\anaconda3\\lib\\site-packages\\sklearn\\metrics\\_classification.py:1344: UndefinedMetricWarning: Precision is ill-defined and being set to 0.0 due to no predicted samples. Use `zero_division` parameter to control this behavior.\n",
      "  _warn_prf(average, modifier, msg_start, len(result))\n",
      "c:\\Users\\Sophie\\anaconda3\\lib\\site-packages\\sklearn\\metrics\\_classification.py:1344: UndefinedMetricWarning: Precision is ill-defined and being set to 0.0 due to no predicted samples. Use `zero_division` parameter to control this behavior.\n",
      "  _warn_prf(average, modifier, msg_start, len(result))\n",
      "c:\\Users\\Sophie\\anaconda3\\lib\\site-packages\\sklearn\\metrics\\_classification.py:1344: UndefinedMetricWarning: Precision is ill-defined and being set to 0.0 due to no predicted samples. Use `zero_division` parameter to control this behavior.\n",
      "  _warn_prf(average, modifier, msg_start, len(result))\n",
      "c:\\Users\\Sophie\\anaconda3\\lib\\site-packages\\sklearn\\metrics\\_classification.py:1344: UndefinedMetricWarning: Precision is ill-defined and being set to 0.0 due to no predicted samples. Use `zero_division` parameter to control this behavior.\n",
      "  _warn_prf(average, modifier, msg_start, len(result))\n",
      "c:\\Users\\Sophie\\anaconda3\\lib\\site-packages\\sklearn\\metrics\\_classification.py:1344: UndefinedMetricWarning: Precision is ill-defined and being set to 0.0 due to no predicted samples. Use `zero_division` parameter to control this behavior.\n",
      "  _warn_prf(average, modifier, msg_start, len(result))\n",
      "c:\\Users\\Sophie\\anaconda3\\lib\\site-packages\\sklearn\\metrics\\_classification.py:1344: UndefinedMetricWarning: Precision is ill-defined and being set to 0.0 due to no predicted samples. Use `zero_division` parameter to control this behavior.\n",
      "  _warn_prf(average, modifier, msg_start, len(result))\n",
      "c:\\Users\\Sophie\\anaconda3\\lib\\site-packages\\sklearn\\metrics\\_classification.py:1344: UndefinedMetricWarning: Precision is ill-defined and being set to 0.0 due to no predicted samples. Use `zero_division` parameter to control this behavior.\n",
      "  _warn_prf(average, modifier, msg_start, len(result))\n",
      "c:\\Users\\Sophie\\anaconda3\\lib\\site-packages\\sklearn\\metrics\\_classification.py:1344: UndefinedMetricWarning: Precision is ill-defined and being set to 0.0 due to no predicted samples. Use `zero_division` parameter to control this behavior.\n",
      "  _warn_prf(average, modifier, msg_start, len(result))\n",
      "c:\\Users\\Sophie\\anaconda3\\lib\\site-packages\\sklearn\\metrics\\_classification.py:1344: UndefinedMetricWarning: Precision is ill-defined and being set to 0.0 due to no predicted samples. Use `zero_division` parameter to control this behavior.\n",
      "  _warn_prf(average, modifier, msg_start, len(result))\n",
      "c:\\Users\\Sophie\\anaconda3\\lib\\site-packages\\sklearn\\metrics\\_classification.py:1344: UndefinedMetricWarning: Precision is ill-defined and being set to 0.0 due to no predicted samples. Use `zero_division` parameter to control this behavior.\n",
      "  _warn_prf(average, modifier, msg_start, len(result))\n",
      "c:\\Users\\Sophie\\anaconda3\\lib\\site-packages\\sklearn\\metrics\\_classification.py:1344: UndefinedMetricWarning: Precision is ill-defined and being set to 0.0 due to no predicted samples. Use `zero_division` parameter to control this behavior.\n",
      "  _warn_prf(average, modifier, msg_start, len(result))\n"
     ]
    },
    {
     "name": "stdout",
     "output_type": "stream",
     "text": [
      "   Threshold  Accuracy  Precision  Recall  F1 Score\n",
      "0          0  0.326087   0.326087     1.0  0.491803\n",
      "1          1  0.326087   0.326087     1.0  0.491803\n",
      "2          2  0.326087   0.326087     1.0  0.491803\n",
      "3          3  0.326087   0.326087     1.0  0.491803\n",
      "4          4  0.326087   0.326087     1.0  0.491803\n",
      "Best threshold: 71 with F1 Score: 0.7058823529411765\n"
     ]
    },
    {
     "name": "stderr",
     "output_type": "stream",
     "text": [
      "c:\\Users\\Sophie\\anaconda3\\lib\\site-packages\\sklearn\\metrics\\_classification.py:1344: UndefinedMetricWarning: Precision is ill-defined and being set to 0.0 due to no predicted samples. Use `zero_division` parameter to control this behavior.\n",
      "  _warn_prf(average, modifier, msg_start, len(result))\n",
      "c:\\Users\\Sophie\\anaconda3\\lib\\site-packages\\sklearn\\metrics\\_classification.py:1344: UndefinedMetricWarning: Precision is ill-defined and being set to 0.0 due to no predicted samples. Use `zero_division` parameter to control this behavior.\n",
      "  _warn_prf(average, modifier, msg_start, len(result))\n",
      "c:\\Users\\Sophie\\anaconda3\\lib\\site-packages\\sklearn\\metrics\\_classification.py:1344: UndefinedMetricWarning: Precision is ill-defined and being set to 0.0 due to no predicted samples. Use `zero_division` parameter to control this behavior.\n",
      "  _warn_prf(average, modifier, msg_start, len(result))\n",
      "c:\\Users\\Sophie\\anaconda3\\lib\\site-packages\\sklearn\\metrics\\_classification.py:1344: UndefinedMetricWarning: Precision is ill-defined and being set to 0.0 due to no predicted samples. Use `zero_division` parameter to control this behavior.\n",
      "  _warn_prf(average, modifier, msg_start, len(result))\n",
      "c:\\Users\\Sophie\\anaconda3\\lib\\site-packages\\sklearn\\metrics\\_classification.py:1344: UndefinedMetricWarning: Precision is ill-defined and being set to 0.0 due to no predicted samples. Use `zero_division` parameter to control this behavior.\n",
      "  _warn_prf(average, modifier, msg_start, len(result))\n"
     ]
    }
   ],
   "source": [
    "from sklearn.metrics import accuracy_score, precision_score, recall_score, f1_score\n",
    "\n",
    "# Initialize variables\n",
    "thresholds = np.arange(0, 101, 1)  # Threshold range from 0 to 100\n",
    "best_threshold = None\n",
    "best_f1_score = 0\n",
    "\n",
    "# Store metrics for each threshold\n",
    "metrics = []\n",
    "\n",
    "# Loop through each threshold\n",
    "for threshold in thresholds:\n",
    "    combined_candidates['predicted_category'] = np.where(combined_candidates['overallScore'] >= threshold, 'GO', 'NO-GO')\n",
    "    \n",
    "    # Calculate metrics\n",
    "    accuracy = accuracy_score(combined_candidates['binary_HR'], combined_candidates['predicted_category'])\n",
    "    precision = precision_score(combined_candidates['binary_HR'], combined_candidates['predicted_category'], pos_label='GO')\n",
    "    recall = recall_score(combined_candidates['binary_HR'], combined_candidates['predicted_category'], pos_label='GO')\n",
    "    f1 = f1_score(combined_candidates['binary_HR'], combined_candidates['predicted_category'], pos_label='GO')\n",
    "    \n",
    "    metrics.append({\n",
    "        'Threshold': threshold,\n",
    "        'Accuracy': accuracy,\n",
    "        'Precision': precision,\n",
    "        'Recall': recall,\n",
    "        'F1 Score': f1\n",
    "    })\n",
    "    \n",
    "    # Update best threshold\n",
    "    if f1 > best_f1_score:\n",
    "        best_f1_score = f1\n",
    "        best_threshold = threshold\n",
    "\n",
    "# Convert metrics to DataFrame for better visualization\n",
    "metrics_df = pd.DataFrame(metrics)\n",
    "print(metrics_df.head())\n",
    "\n",
    "print(f\"Best threshold: {best_threshold} with F1 Score: {best_f1_score}\")\n"
   ]
  },
  {
   "cell_type": "code",
   "execution_count": 83,
   "metadata": {},
   "outputs": [
    {
     "name": "stdout",
     "output_type": "stream",
     "text": [
      "Final Accuracy: 0.782608695652174\n",
      "Final Precision: 0.631578947368421\n",
      "Final Recall: 0.8\n",
      "Final F1 Score: 0.7058823529411765\n"
     ]
    }
   ],
   "source": [
    "# Apply the best threshold\n",
    "combined_candidates['final_prediction'] = np.where(combined_candidates['overallScore'] >= best_threshold, 'GO', 'NO-GO')\n",
    "\n",
    "# Calculate final metrics\n",
    "final_accuracy = accuracy_score(combined_candidates['binary_HR'], combined_candidates['final_prediction'])\n",
    "final_precision = precision_score(combined_candidates['binary_HR'], combined_candidates['final_prediction'], pos_label='GO')\n",
    "final_recall = recall_score(combined_candidates['binary_HR'], combined_candidates['final_prediction'], pos_label='GO')\n",
    "final_f1 = f1_score(combined_candidates['binary_HR'], combined_candidates['final_prediction'], pos_label='GO')\n",
    "\n",
    "print(f\"Final Accuracy: {final_accuracy}\")\n",
    "print(f\"Final Precision: {final_precision}\")\n",
    "print(f\"Final Recall: {final_recall}\")\n",
    "print(f\"Final F1 Score: {final_f1}\")"
   ]
  },
  {
   "cell_type": "code",
   "execution_count": 84,
   "metadata": {},
   "outputs": [
    {
     "data": {
      "image/png": "[encoded data removed]",
      "text/plain": [
       "<Figure size 576x432 with 1 Axes>"
      ]
     },
     "metadata": {
      "needs_background": "light"
     },
     "output_type": "display_data"
    }
   ],
   "source": [
    "# Generate confusion matrix\n",
    "cm = confusion_matrix(combined_candidates['binary_HR'], combined_candidates['final_prediction'], labels=['GO', 'NO-GO'])\n",
    "\n",
    "# Convert confusion matrix to DataFrame for better visualization\n",
    "cm_df = pd.DataFrame(cm, index=['GO', 'NO-GO'], columns=['GO', 'NO-GO'])\n",
    "# Plot confusion matrix using Seaborn heatmap\n",
    "plt.figure(figsize=(8, 6))\n",
    "sns.heatmap(cm_df, annot=True, fmt='d', cmap='Blues', cbar=False, linewidths=0.5, linecolor='black')\n",
    "plt.title('Confusion Matrix')\n",
    "plt.xlabel('Predicted')\n",
    "plt.ylabel('Actual')\n",
    "plt.show()\n"
   ]
  },
  {
   "cell_type": "markdown",
   "metadata": {},
   "source": [
    "FP - The presence of 7 false positives means that there are 7 candidates who were incorrectly classified as high-potential (\"GO\") but are actually not. there is a moderate risk of overestimating candidate quality. which could lead to potential hiring on inaccurate assessments.\n",
    "FN - The presence of 3 false negatives means that 3 high-potential candidates were incorrectly classified as not suitable (\"NO-GO\"). While the number is relatively small, together with the 7 false positives, we have misclassified 10 candidates out of 46 total candidates. This is significant as it represents a substantial portion of the candidate numbers. The impact of these misclassifications could result in either missed opportunities to hire high-potential candidates or unnecessary investments in candidates who may not perform as expected, and we would like to minimize this number further."
   ]
  },
  {
   "cell_type": "markdown",
   "metadata": {},
   "source": [
    "# Section 3"
   ]
  }
 ],
 "metadata": {
  "kernelspec": {
   "display_name": "lab",
   "language": "python",
   "name": "python3"
  },
  "language_info": {
   "codemirror_mode": {
    "name": "ipython",
    "version": 3
   },
   "file_extension": ".py",
   "mimetype": "text/x-python",
   "name": "python",
   "nbconvert_exporter": "python",
   "pygments_lexer": "ipython3",
   "version": "3.8.8"
  }
 },
 "nbformat": 4,
 "nbformat_minor": 2
}
